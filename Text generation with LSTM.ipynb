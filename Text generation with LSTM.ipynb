{
 "cells": [
  {
   "cell_type": "code",
   "execution_count": 1,
   "id": "fb3bdeb2-48f4-470a-ba24-2160cd50f505",
   "metadata": {},
   "outputs": [],
   "source": [
    "import keras\n",
    "import numpy as np"
   ]
  },
  {
   "cell_type": "code",
   "execution_count": 2,
   "id": "e24c0cfe-2604-4deb-ba0f-8fa2c4ea61be",
   "metadata": {},
   "outputs": [
    {
     "name": "stdout",
     "output_type": "stream",
     "text": [
      "Downloading data from https://s3.amazonaws.com/text-datasets/nietzsche.txt\n",
      "\u001b[1m600901/600901\u001b[0m \u001b[32m━━━━━━━━━━━━━━━━━━━━\u001b[0m\u001b[37m\u001b[0m \u001b[1m5s\u001b[0m 8us/step\n"
     ]
    }
   ],
   "source": [
    "path = keras.utils.get_file(\n",
    "    'nietzsche.txt',\n",
    "    origin='https://s3.amazonaws.com/text-datasets/nietzsche.txt'\n",
    ")\n",
    "text = open(path).read().lower()"
   ]
  },
  {
   "cell_type": "code",
   "execution_count": 4,
   "id": "4471e811-7c19-4547-9b93-c4901b789809",
   "metadata": {},
   "outputs": [
    {
     "name": "stdout",
     "output_type": "stream",
     "text": [
      "Corpus length:  600901\n"
     ]
    }
   ],
   "source": [
    "print('Corpus length: ',len(text))"
   ]
  },
  {
   "cell_type": "code",
   "execution_count": 5,
   "id": "0472de20-c323-42e1-a577-489c1bef9f51",
   "metadata": {},
   "outputs": [],
   "source": [
    "maxlen = 60\n",
    "step = 3\n",
    "sentences = []\n",
    "next_chars = []"
   ]
  },
  {
   "cell_type": "code",
   "execution_count": 6,
   "id": "3e64bcf4-1886-430a-b383-b47373143496",
   "metadata": {},
   "outputs": [
    {
     "name": "stdout",
     "output_type": "stream",
     "text": [
      "Number of sequences:  200281\n"
     ]
    }
   ],
   "source": [
    "for i in range(0 , len(text) - maxlen,step):\n",
    "    sentences.append(text[i: i+maxlen])\n",
    "    next_chars.append(text[i+maxlen])\n",
    "print('Number of sequences: ', len(sentences))"
   ]
  },
  {
   "cell_type": "code",
   "execution_count": 11,
   "id": "ae7da61d-3a51-43f3-b084-4a918b8777b5",
   "metadata": {},
   "outputs": [
    {
     "data": {
      "text/plain": [
       "['preface\\n\\n\\nsupposing that truth is a woman--what then? is the',\n",
       " 'face\\n\\n\\nsupposing that truth is a woman--what then? is there ',\n",
       " 'e\\n\\n\\nsupposing that truth is a woman--what then? is there not',\n",
       " '\\nsupposing that truth is a woman--what then? is there not gr',\n",
       " 'pposing that truth is a woman--what then? is there not groun',\n",
       " 'sing that truth is a woman--what then? is there not ground\\nf',\n",
       " 'g that truth is a woman--what then? is there not ground\\nfor ',\n",
       " 'hat truth is a woman--what then? is there not ground\\nfor sus',\n",
       " ' truth is a woman--what then? is there not ground\\nfor suspec',\n",
       " 'uth is a woman--what then? is there not ground\\nfor suspectin']"
      ]
     },
     "execution_count": 11,
     "metadata": {},
     "output_type": "execute_result"
    }
   ],
   "source": [
    "sentences[0:10]"
   ]
  },
  {
   "cell_type": "code",
   "execution_count": 12,
   "id": "f0b8daef-8d71-4c7f-bdb5-054720de5581",
   "metadata": {},
   "outputs": [],
   "source": [
    "chars = sorted(list(set(text)))"
   ]
  },
  {
   "cell_type": "code",
   "execution_count": 13,
   "id": "3a7c8ae6-a0ed-4c33-92b0-3dfb2d06c56f",
   "metadata": {},
   "outputs": [
    {
     "name": "stdout",
     "output_type": "stream",
     "text": [
      "Unique character:  59\n"
     ]
    }
   ],
   "source": [
    "print('Unique character: ',len(chars))"
   ]
  },
  {
   "cell_type": "code",
   "execution_count": 14,
   "id": "494a49ec-7c86-474a-b14c-adb4aedcff90",
   "metadata": {},
   "outputs": [],
   "source": [
    "char_indices = dict((char, chars.index(char)) for char in chars)"
   ]
  },
  {
   "cell_type": "code",
   "execution_count": 17,
   "id": "8f25440a-2607-4fd4-90c2-3c5881f5c542",
   "metadata": {},
   "outputs": [
    {
     "data": {
      "text/plain": [
       "{'\\n': 0,\n",
       " ' ': 1,\n",
       " '!': 2,\n",
       " '\"': 3,\n",
       " \"'\": 4,\n",
       " '(': 5,\n",
       " ')': 6,\n",
       " ',': 7,\n",
       " '-': 8,\n",
       " '.': 9,\n",
       " '0': 10,\n",
       " '1': 11,\n",
       " '2': 12,\n",
       " '3': 13,\n",
       " '4': 14,\n",
       " '5': 15,\n",
       " '6': 16,\n",
       " '7': 17,\n",
       " '8': 18,\n",
       " '9': 19,\n",
       " ':': 20,\n",
       " ';': 21,\n",
       " '=': 22,\n",
       " '?': 23,\n",
       " '[': 24,\n",
       " ']': 25,\n",
       " '_': 26,\n",
       " 'a': 27,\n",
       " 'b': 28,\n",
       " 'c': 29,\n",
       " 'd': 30,\n",
       " 'e': 31,\n",
       " 'f': 32,\n",
       " 'g': 33,\n",
       " 'h': 34,\n",
       " 'i': 35,\n",
       " 'j': 36,\n",
       " 'k': 37,\n",
       " 'l': 38,\n",
       " 'm': 39,\n",
       " 'n': 40,\n",
       " 'o': 41,\n",
       " 'p': 42,\n",
       " 'q': 43,\n",
       " 'r': 44,\n",
       " 's': 45,\n",
       " 't': 46,\n",
       " 'u': 47,\n",
       " 'v': 48,\n",
       " 'w': 49,\n",
       " 'x': 50,\n",
       " 'y': 51,\n",
       " 'z': 52,\n",
       " '¤': 53,\n",
       " '¦': 54,\n",
       " '©': 55,\n",
       " '«': 56,\n",
       " 'ã': 57,\n",
       " '†': 58}"
      ]
     },
     "execution_count": 17,
     "metadata": {},
     "output_type": "execute_result"
    }
   ],
   "source": [
    "char_indices"
   ]
  },
  {
   "cell_type": "code",
   "execution_count": 19,
   "id": "3cd4c005-3acf-4f26-9df3-8bbaaa27031a",
   "metadata": {},
   "outputs": [],
   "source": [
    "x = np.zeros((len(sentences),maxlen,len(chars)), dtype=np.bool_)\n",
    "y = np.zeros((len(sentences),len(chars)),dtype = np.bool_)"
   ]
  },
  {
   "cell_type": "code",
   "execution_count": 20,
   "id": "f8cbeed0-006b-4582-938d-cd54b1d67b61",
   "metadata": {},
   "outputs": [],
   "source": [
    "for i, sentence in enumerate(sentences):\n",
    "    for t, char in enumerate(sentence):\n",
    "        x[i,t,char_indices[char]] = 1\n",
    "    y[i , char_indices[next_chars[i]]] = 1"
   ]
  },
  {
   "cell_type": "code",
   "execution_count": 24,
   "id": "359f78f8-8458-462f-af31-9229e0b09ffc",
   "metadata": {},
   "outputs": [],
   "source": [
    "from keras import layers"
   ]
  },
  {
   "cell_type": "code",
   "execution_count": 25,
   "id": "45bce0af-edf1-4d99-bf8c-5bbcf7e5c930",
   "metadata": {},
   "outputs": [
    {
     "name": "stderr",
     "output_type": "stream",
     "text": [
      "C:\\Users\\harsh\\AppData\\Roaming\\Python\\Python312\\site-packages\\keras\\src\\layers\\rnn\\rnn.py:204: UserWarning: Do not pass an `input_shape`/`input_dim` argument to a layer. When using Sequential models, prefer using an `Input(shape)` object as the first layer in the model instead.\n",
      "  super().__init__(**kwargs)\n"
     ]
    }
   ],
   "source": [
    "model = keras.models.Sequential()\n",
    "model.add(layers.LSTM(128, input_shape = (maxlen , len(chars))))\n",
    "model.add(layers.Dense(len(chars), activation='softmax'))"
   ]
  },
  {
   "cell_type": "code",
   "execution_count": 27,
   "id": "ea7b4602-0940-4e84-af82-45747abffb7c",
   "metadata": {},
   "outputs": [],
   "source": [
    "optimizer = keras.optimizers.RMSprop(learning_rate=0.01)\n",
    "model.compile(\n",
    "    loss = 'categorical_crossentropy',\n",
    "    optimizer= optimizer\n",
    ")"
   ]
  },
  {
   "cell_type": "code",
   "execution_count": 29,
   "id": "38076167-d3d1-4a2d-9746-af965e71ea45",
   "metadata": {},
   "outputs": [],
   "source": [
    "def sample(preds , temperature=1.0):\n",
    "    preds = np.asarray(preds).astype('float64')\n",
    "    preds = np.log(preds)/temperature\n",
    "    exp_preds = np.exp(preds)\n",
    "    preds = exp_preds / np.sum(exp_preds)\n",
    "    probas = np.random.multinomial(1,preds,1)\n",
    "    return np.argmax(probas)"
   ]
  },
  {
   "cell_type": "code",
   "execution_count": 30,
   "id": "e8d735f1-f19d-4220-9e64-198fcb1bf39a",
   "metadata": {},
   "outputs": [],
   "source": [
    "import random\n",
    "import sys"
   ]
  },
  {
   "cell_type": "code",
   "execution_count": null,
   "id": "a9c98996-639e-4ca3-97e4-b1734d7d9cdc",
   "metadata": {},
   "outputs": [
    {
     "name": "stdout",
     "output_type": "stream",
     "text": [
      "epoch 1\n",
      "\u001b[1m1565/1565\u001b[0m \u001b[32m━━━━━━━━━━━━━━━━━━━━\u001b[0m\u001b[37m\u001b[0m \u001b[1m141s\u001b[0m 88ms/step - loss: 2.3240\n",
      "--- Generating with seed: \"alness of all \"will to power\" before your eyes, that almost\n",
      "\"\n",
      "------ temperature: 0.2\n",
      "alness of all \"will to power\" before your eyes, that almost\n",
      "and the religions and and regind the sathing of the speak of the speak and the precised the relights of the soul and the experstion of the present of the conscient of the speak, the extent of the pressions of the speak of the speak the speak and the spirituation of the scient of and and the perhaps of the conscient of the something the speakh of the desint of the perhaps of the great of the speak ------ temperature: 0.5\n",
      "eakh of the desint of the perhaps of the great of the speak of the fuelly and conpresing the rectants of the speak is so as a supher the stand with the casted one life the great of perhaps the failly in the expets, and the every which the grout and which which regin the sach of the cause of the more in the same and the feeling of and sances to the indering of the sentend and a sool from the destness of the regard to the philosopher of the spient dest and s------ temperature: 1.0\n",
      "ss of the regard to the philosopher of the spient dest and so\n",
      "efor and s?oporolan wish esseds of noushes the intusily fecluns, dispond, perhats of thered there= quics indincispwand but knoe fithed, what onenegness, have to the wexce-te digntule if ill\n",
      "generous of 1nst ser out tay suppired there\n",
      "itsapayting more and a being relighess baighesfs the must plakes side wi honcheqted \"now consudele and of nechives furings and contrustals expettic knliff\n",
      "of the u\n",
      "------ temperature: 1.2\n",
      "f nechives furings and contrustals expettic knliff\n",
      "of the u\n",
      "raved,\n",
      "\n",
      "240. i purvea\n",
      "can from penttionand chil, exctentansmow\n",
      "natef-to them whoir)ssous odso, of extentuct, an\n",
      "there must calute, trater to heow vidptem, santrar: eventrath.\n",
      "\n",
      "caue\n",
      "\"wapsing, are to, that ©uph -   hehispen iw\n",
      "\"nact is thutever that ire, heevermorizing and appois why, horading nechaughts\n",
      "be alted, longss,\" hivere of per]ek\n",
      "withisty, the\n",
      "limch is deevers of has and every ifuses) to repoch 2\n",
      "\u001b[1m1565/1565\u001b[0m \u001b[32m━━━━━━━━━━━━━━━━━━━━\u001b[0m\u001b[37m\u001b[0m \u001b[1m190s\u001b[0m 121ms/step - loss: 1.6821\n",
      "--- Generating with seed: \"he five hundred hands which it requires in order to tyranniz\"\n",
      "------ temperature: 0.2\n",
      "he five hundred hands which it requires in order to tyrannized the stand and and the comparance of the fact the concerates and the really and the servation of the morality and the farture and the fact the comparists of the comparance of the part and the state of a men and more and the comparance of the part and the conceinated the morality and the fact the standard and more and concerated which is all the stand the concerates and the devilion of the concer------ temperature: 0.5\n",
      " all the stand the concerates and the devilion of the concerate the\n",
      "self-worth of such a more respect for and sour an in the soul as a weile in others and the furither of a periences, and looks and more the man of the occerally and which are a mority of the present in\n",
      "man it not a so men to when the chirition of the first of a clearate incernation, what is althat the conserved in for the far in the sensible more are doy and and grean the realant the rest a------ temperature: 1.0\n",
      "e sensible more are doy and and grean the realant the rest accusting=-aflicity one's\n",
      "synates ditble] even \"and other intellects. from that moral commensly subse of ty every tercomptish\n",
      "to the quiritian how time of a woman\" well odm not \" men old is is not tim1s all human the mading of who hear to hont even caltly devilactly, is\n",
      "gemurys, who ull senser), which\n",
      "angi: so chillids of point are ofem than or: nor herr,\n",
      "whres kook aref tour after-afd anemeans of ------ temperature: 1.2\n",
      "an or: nor herr,\n",
      "whres kook aref tour after-afd anemeans of condiciousm? hu course or our signi.\n",
      "tive ; plear ofe more is \"belarical show \"real s)eg nicered--the lipe and nowepase accot-not conceste order the seek i copcisent doow-do i alre\"dain murredimatrow of\n",
      "lovepul hiits-do\n",
      "cawe: in othere; owed to be scale\n",
      "the wantnoughiv, and barnlyy equality for fenomer us;recsuple, and commining of gandly\n",
      "to difrolocianity withoue:\" immirate potiols of e-gands douepoch 3\n",
      "\u001b[1m1565/1565\u001b[0m \u001b[32m━━━━━━━━━━━━━━━━━━━━\u001b[0m\u001b[37m\u001b[0m \u001b[1m182s\u001b[0m 116ms/step - loss: 1.5437\n",
      "--- Generating with seed: \"nct which\n",
      "divines that truth might be attained too soon, bef\"\n",
      "------ temperature: 0.2\n",
      "nct which\n",
      "divines that truth might be attained too soon, before the sense of the interpression of the sense of the man the sense of the sense of the sense of the sense of the sense of the sense of the sense of the sense of the sense of the sense of the sense of the consideration of the sense of the proved, the interpression of the sense of the most dispirit and the consideration of the sense of the sense of the consideration of the present to the same of t------ temperature: 0.5\n",
      "e sense of the consideration of the present to the same of the soul of distitue is the \"sensical person or other in the sense of the sense, and be recount one to be an enginest of one who has the according even the be doing in regarding the order and har as the convense is sense of his sense and and proveduals, and the process of the sentiment and expression of the degice in its sense of the feeling is the course and the deem them most handing to and in an------ temperature: 1.0\n",
      "ng is the course and the deem them most handing to and in any volor1ariuge esseesty are and reouse in suths whufferetion himself not lorghe spirituals the\n",
      "things anything that it canlifuecem one\n",
      "estable\" faices, religional centuce of the the certainty, wartfic,\"hery, he imoundates--that lets they perspicing there is sen whied litele, as nature the\n",
      "rementages, those\n",
      "with the new. have acttitualous fundamofsistical segation and has new troumename, but letnro------ temperature: 1.2\n",
      "fundamofsistical segation and has new troumename, but letnros.\n",
      "\"conceak lowed a will,\n",
      "a impesser? in the seceives--nor\n",
      "stymeness, one if \"\"hand, they howeged--their berit in the \n",
      "brot are upon them are vaghain\n",
      "promeonduncoryioily, lone for himself precipl, heavoump. refuity ooty_s generally eiting payk rock fasself himself prh\"bliaewing besuth on\n",
      "pinfar=st\n",
      "wat\n",
      "in his dimalt, onicals: exists all mankennighriu verturisyous cay conjutter4our\n",
      "lived if\n",
      "necess, epoch 4\n",
      "\u001b[1m1565/1565\u001b[0m \u001b[32m━━━━━━━━━━━━━━━━━━━━\u001b[0m\u001b[37m\u001b[0m \u001b[1m250s\u001b[0m 160ms/step - loss: 1.4861\n",
      "--- Generating with seed: \"r thousand\n",
      "years shall be spoken of as a being existing from\"\n",
      "------ temperature: 0.2\n",
      "r thousand\n",
      "years shall be spoken of as a being existing from the spirit the presence, the discoverent the sention and in the such a presence is the sention of the subled the self in the such a spirit the most be in the serious and the such a spirit the word in the sention by the sentiments of the same the sention of the sentiments of the spirit the most sentiments of the spirit to the reality is the spirit to the sentiments of the spirit the spirit the wor------ temperature: 0.5\n",
      "he spirit to the sentiments of the spirit the spirit the worst for the\n",
      "relation the stronger a be the love a can her the\n",
      "seetical his themselves, without the presence is have the souther be the world is converation of the untranshithest in the belong the experience of the\n",
      "spirit contempt of the any the souls and the presence.\n",
      "\n",
      "222. it new presenting such spirit for the germination of the fartured to self the character and who believe of which the germans, ------ temperature: 1.0\n",
      "to self the character and who believe of which the germans, as out which is our miruitiot were an such its deal selos, is its factredly samism or .\". scire sympathyed to\n",
      "levpor must than the speciitles of mort, without the beloght of the perfetio maning\n",
      "and the\n",
      "truth come intervolusion limite in shi-\"ter willed under the trivired them there is dingura may, has errors, as digenersulf ald, weaks; dones they wellunal,\" in of histencly require the person, are ------ temperature: 1.2\n",
      "nes they wellunal,\" in of histencly require the person, are these ly \n",
      "la;s henromewous\n",
      "often: ori ouplyy, from laacled und know golruatic he whulh its not sever must uagers, preceistion. his doubtication in things afyerday, the whole love is this take fokws haualy it anyily weccommaninged\" madues b in.---we\n",
      "woald is\n",
      "tipuling discoveres realative to has to the\n",
      "sames narcing degroutarys, also may to not develipite germanul\n",
      "confusem the more care becomest lonepoch 5\n",
      "\u001b[1m1565/1565\u001b[0m \u001b[32m━━━━━━━━━━━━━━━━━━━━\u001b[0m\u001b[37m\u001b[0m \u001b[1m165s\u001b[0m 105ms/step - loss: 1.4469\n",
      "--- Generating with seed: \"ing; which means that one has much to do!--but a curiosity l\"\n",
      "------ temperature: 0.2\n",
      "ing; which means that one has much to do!--but a curiosity little and the spirit and such a precisely to the structers of the spirit and all the spirit and all the spirit and the precisely and for the structing to the same time of the spirit and the spirit of the spirit of the spirit and the spirit and the spirit of the spirit and spirit and denoment of the spirit and such a precisely the spirit and desired to the same time of the spirit and such a precise------ temperature: 0.5\n",
      "nd desired to the same time of the spirit and such a precisely we knows, and as the certain sense of every even to the good and latt the strange to conscience that is long and langual because he even to be a structed--and all the world and all the spiritual and fine that is like that is also an explaising the free thing in the philosophers, than a readity of a superious in free\n",
      "fricted of the super-possible to one who be a superior and sense of a morality,------ temperature: 1.0\n",
      "r-possible to one who be a superior and sense of a morality, things very for this actions whichoul has dones.\n",
      "fort soundful\n",
      "and pirhative morality his finally a woirse have as\n",
      "to ordome\n",
      "pacale\n",
      "and enclest remaining, at the distrustfus aclied which given\n",
      "enduris\n",
      "all--not discorreate things\n",
      "dolign-spire upon the neeth, as the ched one may races, to be neef this ir\n",
      "by believed, but with owing the conscience of worse.--in such at right har dangers, and wisever------ temperature: 1.2\n",
      "science of worse.--in such at right har dangers, and wisever. howly, though by though feem\n",
      "must, rume! thing fortationy, wosld fornesfuak, imman at all asoume consequence.=--ill\n",
      "accountkpheyanding, akstwath of contrage t. i\n",
      "a nown insuquence that purksuing. cainhion of quesely britection for\n",
      "espary its ty \"gene things.--in bot a phyisions irin? whom with?\n",
      "there still too, wors blints.----i strungs is nobluing so i sphict. exceptific: the\n",
      "fruntism, but rimiepoch 6\n",
      "\u001b[1m1565/1565\u001b[0m \u001b[32m━━━━━━━━━━━━━━━━━━━━\u001b[0m\u001b[37m\u001b[0m \u001b[1m157s\u001b[0m 101ms/step - loss: 1.4210\n",
      "--- Generating with seed: \" it we who presented\n",
      "ourselves before the problem? which of \"\n",
      "------ temperature: 0.2\n",
      " it we who presented\n",
      "ourselves before the problem? which of the soul and the present the same time of the same the antion of the strength of the soul and in the great the more the strength of the sentiment of the contradiction of the standard of the standard to the more the standard to the states of the same time and and the same the states of the contralt the powerful and a soul and the standard and as it is the same time of the states of the states of th------ temperature: 0.5\n",
      "and as it is the same time of the states of the states of the contempt the judgment, sympathy of the subtlest himself the\n",
      "unnation of their self-cary of him of themselves in the noble. the according deem of the command in the senses of the society and all the present in the present in the stronger of the more and believe, the religion of the antion of the stars in the possible, a bleme, the other has a man with he it are the person as a stappeded the stand------ temperature: 1.0\n",
      "has a man with he it are the person as a stappeded the stand only to emotion of the idex to a so farth no meaning!\n",
      "mup if in this knowledge circumses--it say who? he strongen is, on-reducces (for\n",
      "man\n",
      "natifieds and\n",
      "agity in his own,\n",
      "perhaps men to fooly as it great tedefolenially\n",
      "other. the mores.--and two racring many ond belief in his ease they called, ardorme the condedutz\n",
      "of the viltist enture,\n",
      "thright,\n",
      "      lutt, no joy, it is not bely but not resilt ------ temperature: 1.2\n",
      "\n",
      "thright,\n",
      "      lutt, no joy, it is not bely but not resilt hapo, in the mamoer\n",
      "that they confuldates that stacts\n",
      "our still has ma of har popempable of their f:oming, \"iu¤tered toom, has been above, \n",
      "radcedineating metaphysical s damene\n",
      "inaborgline of shill like and mexte of they which\n",
      "scheep anhingues--is of with anyty on its clund\n",
      "they makes thgysequage day steets orly continua the prov yill, so , notten-«\"m\n",
      "of his no maxty\n",
      "of\n",
      "twith.--if nut a grasponed epoch 7\n",
      "\u001b[1m  49/1565\u001b[0m \u001b[37m━━━━━━━━━━━━━━━━━━━━\u001b[0m \u001b[1m2:56\u001b[0m 116ms/step - loss: 1.3306"
     ]
    }
   ],
   "source": [
    "for epoch in range(1,60):\n",
    "    print('epoch',epoch)\n",
    "    model.fit(x,y,batch_size=128,epochs=1)\n",
    "    start_index = random.randint(0,len(text)-maxlen-1)\n",
    "    generated_text = text[start_index: start_index + maxlen]\n",
    "    print('--- Generating with seed: \"' + generated_text + '\"')\n",
    "    for temperature in [0.2, 0.5, 1.0, 1.2]:\n",
    "        print('------ temperature:', temperature)\n",
    "        sys.stdout.write(generated_text)\n",
    "        for i in range(400):\n",
    "            sampled = np.zeros((1,maxlen,len(chars)))\n",
    "            for t,char in enumerate(generated_text):\n",
    "                sampled[0,t,char_indices[char]] = 1\n",
    "            preds = model.predict(sampled, verbose=0)[0]\n",
    "            next_index = sample(preds,temperature)\n",
    "            next_char = chars[next_index]\n",
    "            generated_text += next_char\n",
    "            generated_text = generated_text[1:]\n",
    "            sys.stdout.write(next_char)"
   ]
  },
  {
   "cell_type": "code",
   "execution_count": null,
   "id": "47cfa1e9-08c8-4745-a8ff-bb8499958d00",
   "metadata": {},
   "outputs": [],
   "source": []
  },
  {
   "cell_type": "code",
   "execution_count": null,
   "id": "85d8ce01-74da-4863-b55b-9c0c600080e2",
   "metadata": {},
   "outputs": [],
   "source": []
  }
 ],
 "metadata": {
  "kernelspec": {
   "display_name": "Python 3 (ipykernel)",
   "language": "python",
   "name": "python3"
  },
  "language_info": {
   "codemirror_mode": {
    "name": "ipython",
    "version": 3
   },
   "file_extension": ".py",
   "mimetype": "text/x-python",
   "name": "python",
   "nbconvert_exporter": "python",
   "pygments_lexer": "ipython3",
   "version": "3.12.3"
  }
 },
 "nbformat": 4,
 "nbformat_minor": 5
}
